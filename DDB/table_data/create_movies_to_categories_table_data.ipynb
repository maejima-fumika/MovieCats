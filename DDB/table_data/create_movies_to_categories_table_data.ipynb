{
 "cells": [
  {
   "cell_type": "code",
   "execution_count": 1,
   "metadata": {},
   "outputs": [],
   "source": [
    "import csv\n",
    "import datetime\n",
    "from pprint import pprint\n",
    "import pandas as pd"
   ]
  },
  {
   "cell_type": "code",
   "execution_count": 2,
   "metadata": {},
   "outputs": [],
   "source": [
    "movies_df = pd.read_csv('./csv/movies.csv',index_col=0)\n",
    "categories_df = pd.read_csv('./csv/categories.csv', index_col=1)\n",
    "ratings_df = pd.read_csv('../ml-latest-small/ratings.csv')"
   ]
  },
  {
   "cell_type": "code",
   "execution_count": 3,
   "metadata": {},
   "outputs": [],
   "source": [
    "movies_to_categories = []"
   ]
  },
  {
   "cell_type": "code",
   "execution_count": 4,
   "metadata": {},
   "outputs": [],
   "source": [
    "with open(\"../ml-latest-small/movies.csv\", 'r') as f:\n",
    "    reader = csv.reader(f, delimiter=',')\n",
    "    next(reader)\n",
    "    for row in reader:\n",
    "        genres = row[2].split('|')\n",
    "        for genre in genres:\n",
    "            movies_to_categories_row = {}\n",
    "            try:\n",
    "                movies_to_categories_row['categoryId'] = categories_df.at[genre,'categoryId']\n",
    "            except:\n",
    "                movies_to_categories_row['categoryId'] = len(categories_df)-1\n",
    "            movies_to_categories_row['movieId'] = row[0]\n",
    "            movies_to_categories_row['averageRatingOfMovie'] = movies_df.at[int(row[0]),'averageRating']\n",
    "            movies_to_categories.append(movies_to_categories_row)"
   ]
  },
  {
   "cell_type": "code",
   "execution_count": 5,
   "metadata": {},
   "outputs": [],
   "source": [
    "movies_to_categories_df = pd.DataFrame(movies_to_categories)"
   ]
  },
  {
   "cell_type": "code",
   "execution_count": 6,
   "metadata": {},
   "outputs": [],
   "source": [
    "now = datetime.datetime.now().isoformat()\n",
    "movies_to_categories_df['createdAt'] = now\n",
    "movies_to_categories_df['updatedAt'] = now"
   ]
  },
  {
   "cell_type": "code",
   "execution_count": 9,
   "metadata": {},
   "outputs": [],
   "source": [
    "movies_to_categories_df = movies_to_categories_df.drop_duplicates()"
   ]
  },
  {
   "cell_type": "code",
   "execution_count": 10,
   "metadata": {},
   "outputs": [],
   "source": [
    "movies_to_categories_df.to_csv('./csv/movies_to_categories.csv', index=False)"
   ]
  },
  {
   "cell_type": "code",
   "execution_count": null,
   "metadata": {},
   "outputs": [],
   "source": []
  }
 ],
 "metadata": {
  "interpreter": {
   "hash": "31f2aee4e71d21fbe5cf8b01ff0e069b9275f58929596ceb00d14d90e3e16cd6"
  },
  "kernelspec": {
   "display_name": "Python 3.8.9 64-bit",
   "language": "python",
   "name": "python3"
  },
  "language_info": {
   "codemirror_mode": {
    "name": "ipython",
    "version": 3
   },
   "file_extension": ".py",
   "mimetype": "text/x-python",
   "name": "python",
   "nbconvert_exporter": "python",
   "pygments_lexer": "ipython3",
   "version": "3.8.9"
  },
  "orig_nbformat": 4
 },
 "nbformat": 4,
 "nbformat_minor": 2
}
