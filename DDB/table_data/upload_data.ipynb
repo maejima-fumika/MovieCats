{
 "cells": [
  {
   "cell_type": "code",
   "execution_count": 1,
   "metadata": {},
   "outputs": [],
   "source": [
    "import boto3\n",
    "import csv\n",
    "import decimal"
   ]
  },
  {
   "cell_type": "code",
   "execution_count": 2,
   "metadata": {},
   "outputs": [],
   "source": [
    "ddb = boto3.resource('dynamodb')\n",
    "categories_table = ddb.Table('MovieCats-Devo-Categories')\n"
   ]
  },
  {
   "cell_type": "code",
   "execution_count": 3,
   "metadata": {},
   "outputs": [],
   "source": [
    "with open('./csv/categories.csv','r') as f:\n",
    "    reader = csv.DictReader(f)\n",
    "    with categories_table.batch_writer() as batch:\n",
    "        for i in range(99):\n",
    "            try:\n",
    "                line = next(reader)\n",
    "                for d in [x for x in line.keys() if line[x] == '']:\n",
    "                    del line[d]\n",
    "                line['numOfMovies'] = (line['numOfMovies'])\n",
    "                batch.put_item(line)\n",
    "            except:\n",
    "                break"
   ]
  },
  {
   "cell_type": "code",
   "execution_count": 3,
   "metadata": {},
   "outputs": [],
   "source": [
    "movies_table = ddb.Table('MovieCats-Devo-Movies')"
   ]
  },
  {
   "cell_type": "code",
   "execution_count": 4,
   "metadata": {},
   "outputs": [
    {
     "name": "stdout",
     "output_type": "stream",
     "text": [
      "\n"
     ]
    }
   ],
   "source": [
    "with open('./csv/movies.csv','r') as f:\n",
    "    reader = csv.DictReader(f)\n",
    "    while True:\n",
    "        with movies_table.batch_writer() as batch:\n",
    "            for i in range(99):\n",
    "                try:\n",
    "                    line = next(reader)\n",
    "                    for d in [x for x in line.keys() if line[x] == '']:\n",
    "                        del line[d]\n",
    "                    line['averageRating'] = decimal.Decimal(line['averageRating'])\n",
    "                    batch.put_item(line)\n",
    "                except KeyError as e:\n",
    "                    batch.put_item(line)\n",
    "                except Exception as e:\n",
    "                    print(e)\n",
    "                    break\n",
    "            else:\n",
    "                continue\n",
    "            break"
   ]
  },
  {
   "cell_type": "code",
   "execution_count": 6,
   "metadata": {},
   "outputs": [],
   "source": [
    "movies_to_categories_table = ddb.Table(\"MovieCats-Devo-MoviesToCategories\")"
   ]
  },
  {
   "cell_type": "code",
   "execution_count": 7,
   "metadata": {},
   "outputs": [
    {
     "name": "stdout",
     "output_type": "stream",
     "text": [
      "\n"
     ]
    }
   ],
   "source": [
    "with open('./csv/movies_to_categories.csv','r') as f:\n",
    "    reader = csv.DictReader(f)\n",
    "    while True:\n",
    "        with movies_to_categories_table.batch_writer() as batch:\n",
    "            for i in range(99):\n",
    "                try:\n",
    "                    line = next(reader)\n",
    "                    for d in [x for x in line.keys() if line[x] == '']:\n",
    "                        del line[d]\n",
    "                    line['averageRatingOfMovie'] = decimal.Decimal(line['averageRatingOfMovie'])\n",
    "                    batch.put_item(line)\n",
    "                except KeyError as e:\n",
    "                    batch.put_item(line)\n",
    "                except Exception as e:\n",
    "                    print(e)\n",
    "                    break\n",
    "            else:\n",
    "                continue\n",
    "            break"
   ]
  },
  {
   "cell_type": "code",
   "execution_count": null,
   "metadata": {},
   "outputs": [],
   "source": []
  }
 ],
 "metadata": {
  "interpreter": {
   "hash": "31f2aee4e71d21fbe5cf8b01ff0e069b9275f58929596ceb00d14d90e3e16cd6"
  },
  "kernelspec": {
   "display_name": "Python 3.8.9 64-bit",
   "language": "python",
   "name": "python3"
  },
  "language_info": {
   "codemirror_mode": {
    "name": "ipython",
    "version": 3
   },
   "file_extension": ".py",
   "mimetype": "text/x-python",
   "name": "python",
   "nbconvert_exporter": "python",
   "pygments_lexer": "ipython3",
   "version": "3.8.9"
  },
  "orig_nbformat": 4
 },
 "nbformat": 4,
 "nbformat_minor": 2
}
