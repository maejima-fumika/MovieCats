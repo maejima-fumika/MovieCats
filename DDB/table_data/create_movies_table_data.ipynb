{
 "cells": [
  {
   "cell_type": "code",
   "execution_count": 2,
   "metadata": {},
   "outputs": [],
   "source": [
    "import csv\n",
    "import datetime\n",
    "from pprint import pprint\n",
    "import pandas as pd"
   ]
  },
  {
   "cell_type": "code",
   "execution_count": 3,
   "metadata": {},
   "outputs": [],
   "source": [
    "movies_pd = pd.read_csv('../ml-latest-small/movies.csv',index_col=0)\n",
    "ratings_df = pd.read_csv('../ml-latest-small/ratings.csv')\n",
    "links_df = pd.read_csv('../ml-latest-small/links.csv',index_col=0)"
   ]
  },
  {
   "cell_type": "code",
   "execution_count": 6,
   "metadata": {},
   "outputs": [
    {
     "data": {
      "text/plain": [
       "9742"
      ]
     },
     "execution_count": 6,
     "metadata": {},
     "output_type": "execute_result"
    }
   ],
   "source": [
    "len(movies_pd)"
   ]
  },
  {
   "cell_type": "code",
   "execution_count": 8,
   "metadata": {},
   "outputs": [],
   "source": [
    "grouped_ratings = ratings_df.groupby('movieId')"
   ]
  },
  {
   "cell_type": "code",
   "execution_count": 9,
   "metadata": {},
   "outputs": [],
   "source": [
    "grouped_ratings_mean = grouped_ratings.mean()"
   ]
  },
  {
   "cell_type": "code",
   "execution_count": 12,
   "metadata": {},
   "outputs": [
    {
     "data": {
      "text/plain": [
       "9724"
      ]
     },
     "execution_count": 12,
     "metadata": {},
     "output_type": "execute_result"
    }
   ],
   "source": [
    "len(grouped_ratings_mean)"
   ]
  },
  {
   "cell_type": "code",
   "execution_count": 16,
   "metadata": {},
   "outputs": [],
   "source": [
    "movie_df = pd.merge(movies_pd, grouped_ratings_mean, on='movieId',how='left').drop('userId', axis=1).drop('timestamp', axis=1)"
   ]
  },
  {
   "cell_type": "code",
   "execution_count": 17,
   "metadata": {},
   "outputs": [],
   "source": [
    "movie_df = movie_df.drop('genres', axis=1)"
   ]
  },
  {
   "cell_type": "code",
   "execution_count": 19,
   "metadata": {},
   "outputs": [],
   "source": [
    "movie_df = pd.merge(movie_df, links_df, on='movieId')"
   ]
  },
  {
   "cell_type": "code",
   "execution_count": 20,
   "metadata": {},
   "outputs": [],
   "source": [
    "now = datetime.datetime.now().isoformat()"
   ]
  },
  {
   "cell_type": "code",
   "execution_count": 21,
   "metadata": {},
   "outputs": [],
   "source": [
    "movie_df['imageUrl'] = ''\n",
    "movie_df['description'] = ''\n",
    "movie_df['quoteSource'] = ''\n",
    "movie_df['nearestMovieIds'] = '[]'\n",
    "movie_df['createdAt'] = now\n",
    "movie_df['updatedAt'] = now"
   ]
  },
  {
   "cell_type": "code",
   "execution_count": 22,
   "metadata": {},
   "outputs": [],
   "source": [
    "movie_df = movie_df.rename(columns={'rating':'averageRating'})"
   ]
  },
  {
   "cell_type": "code",
   "execution_count": 23,
   "metadata": {},
   "outputs": [
    {
     "data": {
      "text/html": [
       "<div>\n",
       "<style scoped>\n",
       "    .dataframe tbody tr th:only-of-type {\n",
       "        vertical-align: middle;\n",
       "    }\n",
       "\n",
       "    .dataframe tbody tr th {\n",
       "        vertical-align: top;\n",
       "    }\n",
       "\n",
       "    .dataframe thead th {\n",
       "        text-align: right;\n",
       "    }\n",
       "</style>\n",
       "<table border=\"1\" class=\"dataframe\">\n",
       "  <thead>\n",
       "    <tr style=\"text-align: right;\">\n",
       "      <th></th>\n",
       "      <th>title</th>\n",
       "      <th>averageRating</th>\n",
       "      <th>imdbId</th>\n",
       "      <th>tmdbId</th>\n",
       "      <th>imageUrl</th>\n",
       "      <th>videoUrl</th>\n",
       "      <th>description</th>\n",
       "      <th>quoteSource</th>\n",
       "      <th>nearestMovieIds</th>\n",
       "      <th>createdAt</th>\n",
       "      <th>updatedAt</th>\n",
       "    </tr>\n",
       "    <tr>\n",
       "      <th>movieId</th>\n",
       "      <th></th>\n",
       "      <th></th>\n",
       "      <th></th>\n",
       "      <th></th>\n",
       "      <th></th>\n",
       "      <th></th>\n",
       "      <th></th>\n",
       "      <th></th>\n",
       "      <th></th>\n",
       "      <th></th>\n",
       "      <th></th>\n",
       "    </tr>\n",
       "  </thead>\n",
       "  <tbody>\n",
       "    <tr>\n",
       "      <th>1</th>\n",
       "      <td>Toy Story (1995)</td>\n",
       "      <td>3.920930</td>\n",
       "      <td>114709</td>\n",
       "      <td>862.0</td>\n",
       "      <td></td>\n",
       "      <td></td>\n",
       "      <td></td>\n",
       "      <td></td>\n",
       "      <td>[]</td>\n",
       "      <td>2022-04-27T00:16:35.598034</td>\n",
       "      <td>2022-04-27T00:16:35.598034</td>\n",
       "    </tr>\n",
       "    <tr>\n",
       "      <th>2</th>\n",
       "      <td>Jumanji (1995)</td>\n",
       "      <td>3.431818</td>\n",
       "      <td>113497</td>\n",
       "      <td>8844.0</td>\n",
       "      <td></td>\n",
       "      <td></td>\n",
       "      <td></td>\n",
       "      <td></td>\n",
       "      <td>[]</td>\n",
       "      <td>2022-04-27T00:16:35.598034</td>\n",
       "      <td>2022-04-27T00:16:35.598034</td>\n",
       "    </tr>\n",
       "    <tr>\n",
       "      <th>3</th>\n",
       "      <td>Grumpier Old Men (1995)</td>\n",
       "      <td>3.259615</td>\n",
       "      <td>113228</td>\n",
       "      <td>15602.0</td>\n",
       "      <td></td>\n",
       "      <td></td>\n",
       "      <td></td>\n",
       "      <td></td>\n",
       "      <td>[]</td>\n",
       "      <td>2022-04-27T00:16:35.598034</td>\n",
       "      <td>2022-04-27T00:16:35.598034</td>\n",
       "    </tr>\n",
       "    <tr>\n",
       "      <th>4</th>\n",
       "      <td>Waiting to Exhale (1995)</td>\n",
       "      <td>2.357143</td>\n",
       "      <td>114885</td>\n",
       "      <td>31357.0</td>\n",
       "      <td></td>\n",
       "      <td></td>\n",
       "      <td></td>\n",
       "      <td></td>\n",
       "      <td>[]</td>\n",
       "      <td>2022-04-27T00:16:35.598034</td>\n",
       "      <td>2022-04-27T00:16:35.598034</td>\n",
       "    </tr>\n",
       "    <tr>\n",
       "      <th>5</th>\n",
       "      <td>Father of the Bride Part II (1995)</td>\n",
       "      <td>3.071429</td>\n",
       "      <td>113041</td>\n",
       "      <td>11862.0</td>\n",
       "      <td></td>\n",
       "      <td></td>\n",
       "      <td></td>\n",
       "      <td></td>\n",
       "      <td>[]</td>\n",
       "      <td>2022-04-27T00:16:35.598034</td>\n",
       "      <td>2022-04-27T00:16:35.598034</td>\n",
       "    </tr>\n",
       "    <tr>\n",
       "      <th>...</th>\n",
       "      <td>...</td>\n",
       "      <td>...</td>\n",
       "      <td>...</td>\n",
       "      <td>...</td>\n",
       "      <td>...</td>\n",
       "      <td>...</td>\n",
       "      <td>...</td>\n",
       "      <td>...</td>\n",
       "      <td>...</td>\n",
       "      <td>...</td>\n",
       "      <td>...</td>\n",
       "    </tr>\n",
       "    <tr>\n",
       "      <th>193581</th>\n",
       "      <td>Black Butler: Book of the Atlantic (2017)</td>\n",
       "      <td>4.000000</td>\n",
       "      <td>5476944</td>\n",
       "      <td>432131.0</td>\n",
       "      <td></td>\n",
       "      <td></td>\n",
       "      <td></td>\n",
       "      <td></td>\n",
       "      <td>[]</td>\n",
       "      <td>2022-04-27T00:16:35.598034</td>\n",
       "      <td>2022-04-27T00:16:35.598034</td>\n",
       "    </tr>\n",
       "    <tr>\n",
       "      <th>193583</th>\n",
       "      <td>No Game No Life: Zero (2017)</td>\n",
       "      <td>3.500000</td>\n",
       "      <td>5914996</td>\n",
       "      <td>445030.0</td>\n",
       "      <td></td>\n",
       "      <td></td>\n",
       "      <td></td>\n",
       "      <td></td>\n",
       "      <td>[]</td>\n",
       "      <td>2022-04-27T00:16:35.598034</td>\n",
       "      <td>2022-04-27T00:16:35.598034</td>\n",
       "    </tr>\n",
       "    <tr>\n",
       "      <th>193585</th>\n",
       "      <td>Flint (2017)</td>\n",
       "      <td>3.500000</td>\n",
       "      <td>6397426</td>\n",
       "      <td>479308.0</td>\n",
       "      <td></td>\n",
       "      <td></td>\n",
       "      <td></td>\n",
       "      <td></td>\n",
       "      <td>[]</td>\n",
       "      <td>2022-04-27T00:16:35.598034</td>\n",
       "      <td>2022-04-27T00:16:35.598034</td>\n",
       "    </tr>\n",
       "    <tr>\n",
       "      <th>193587</th>\n",
       "      <td>Bungo Stray Dogs: Dead Apple (2018)</td>\n",
       "      <td>3.500000</td>\n",
       "      <td>8391976</td>\n",
       "      <td>483455.0</td>\n",
       "      <td></td>\n",
       "      <td></td>\n",
       "      <td></td>\n",
       "      <td></td>\n",
       "      <td>[]</td>\n",
       "      <td>2022-04-27T00:16:35.598034</td>\n",
       "      <td>2022-04-27T00:16:35.598034</td>\n",
       "    </tr>\n",
       "    <tr>\n",
       "      <th>193609</th>\n",
       "      <td>Andrew Dice Clay: Dice Rules (1991)</td>\n",
       "      <td>4.000000</td>\n",
       "      <td>101726</td>\n",
       "      <td>37891.0</td>\n",
       "      <td></td>\n",
       "      <td></td>\n",
       "      <td></td>\n",
       "      <td></td>\n",
       "      <td>[]</td>\n",
       "      <td>2022-04-27T00:16:35.598034</td>\n",
       "      <td>2022-04-27T00:16:35.598034</td>\n",
       "    </tr>\n",
       "  </tbody>\n",
       "</table>\n",
       "<p>9742 rows × 11 columns</p>\n",
       "</div>"
      ],
      "text/plain": [
       "                                             title  averageRating   imdbId  \\\n",
       "movieId                                                                      \n",
       "1                                 Toy Story (1995)       3.920930   114709   \n",
       "2                                   Jumanji (1995)       3.431818   113497   \n",
       "3                          Grumpier Old Men (1995)       3.259615   113228   \n",
       "4                         Waiting to Exhale (1995)       2.357143   114885   \n",
       "5               Father of the Bride Part II (1995)       3.071429   113041   \n",
       "...                                            ...            ...      ...   \n",
       "193581   Black Butler: Book of the Atlantic (2017)       4.000000  5476944   \n",
       "193583                No Game No Life: Zero (2017)       3.500000  5914996   \n",
       "193585                                Flint (2017)       3.500000  6397426   \n",
       "193587         Bungo Stray Dogs: Dead Apple (2018)       3.500000  8391976   \n",
       "193609         Andrew Dice Clay: Dice Rules (1991)       4.000000   101726   \n",
       "\n",
       "           tmdbId imageUrl videoUrl description quoteSource nearestMovieIds  \\\n",
       "movieId                                                                       \n",
       "1           862.0                                                        []   \n",
       "2          8844.0                                                        []   \n",
       "3         15602.0                                                        []   \n",
       "4         31357.0                                                        []   \n",
       "5         11862.0                                                        []   \n",
       "...           ...      ...      ...         ...         ...             ...   \n",
       "193581   432131.0                                                        []   \n",
       "193583   445030.0                                                        []   \n",
       "193585   479308.0                                                        []   \n",
       "193587   483455.0                                                        []   \n",
       "193609    37891.0                                                        []   \n",
       "\n",
       "                          createdAt                   updatedAt  \n",
       "movieId                                                          \n",
       "1        2022-04-27T00:16:35.598034  2022-04-27T00:16:35.598034  \n",
       "2        2022-04-27T00:16:35.598034  2022-04-27T00:16:35.598034  \n",
       "3        2022-04-27T00:16:35.598034  2022-04-27T00:16:35.598034  \n",
       "4        2022-04-27T00:16:35.598034  2022-04-27T00:16:35.598034  \n",
       "5        2022-04-27T00:16:35.598034  2022-04-27T00:16:35.598034  \n",
       "...                             ...                         ...  \n",
       "193581   2022-04-27T00:16:35.598034  2022-04-27T00:16:35.598034  \n",
       "193583   2022-04-27T00:16:35.598034  2022-04-27T00:16:35.598034  \n",
       "193585   2022-04-27T00:16:35.598034  2022-04-27T00:16:35.598034  \n",
       "193587   2022-04-27T00:16:35.598034  2022-04-27T00:16:35.598034  \n",
       "193609   2022-04-27T00:16:35.598034  2022-04-27T00:16:35.598034  \n",
       "\n",
       "[9742 rows x 11 columns]"
      ]
     },
     "execution_count": 23,
     "metadata": {},
     "output_type": "execute_result"
    }
   ],
   "source": [
    "movie_df"
   ]
  },
  {
   "cell_type": "code",
   "execution_count": 26,
   "metadata": {},
   "outputs": [],
   "source": [
    "movie_df.to_csv('csv/movies.csv')"
   ]
  },
  {
   "cell_type": "code",
   "execution_count": null,
   "metadata": {},
   "outputs": [],
   "source": []
  }
 ],
 "metadata": {
  "interpreter": {
   "hash": "31f2aee4e71d21fbe5cf8b01ff0e069b9275f58929596ceb00d14d90e3e16cd6"
  },
  "kernelspec": {
   "display_name": "Python 3.8.9 64-bit",
   "language": "python",
   "name": "python3"
  },
  "language_info": {
   "codemirror_mode": {
    "name": "ipython",
    "version": 3
   },
   "file_extension": ".py",
   "mimetype": "text/x-python",
   "name": "python",
   "nbconvert_exporter": "python",
   "pygments_lexer": "ipython3",
   "version": "3.8.9"
  },
  "orig_nbformat": 4
 },
 "nbformat": 4,
 "nbformat_minor": 2
}
